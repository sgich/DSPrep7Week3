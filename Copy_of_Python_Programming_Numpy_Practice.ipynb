{
  "nbformat": 4,
  "nbformat_minor": 0,
  "metadata": {
    "colab": {
      "name": "Copy of Python Programming - Numpy Practice",
      "provenance": [],
      "collapsed_sections": [
        "-7J_lE4-YPLq",
        "cnaEkfAtY5n1",
        "ICXG_crZZAw8"
      ],
      "toc_visible": true
    },
    "kernelspec": {
      "name": "python3",
      "display_name": "Python 3"
    }
  },
  "cells": [
    {
      "cell_type": "markdown",
      "metadata": {
        "id": "lLLVoxQQDrNO"
      },
      "source": [
        "<font color=\"green\">*To start working on this notebook, or any other notebook that we will use in the Moringa Data Science Course, we will need to save our own copy of it. We can do this by clicking File > Save a Copy in Drive. We will then be able to make edits to our own copy of this notebook.*</font>"
      ]
    },
    {
      "cell_type": "markdown",
      "metadata": {
        "id": "-7J_lE4-YPLq"
      },
      "source": [
        "### <font color=\"green\">1.1 Challenge: Importing our Library</font>"
      ]
    },
    {
      "cell_type": "code",
      "metadata": {
        "id": "9l8Juvt-bRgz"
      },
      "source": [
        "# Let's import numpy\n",
        "#\n",
        "import numpy as np"
      ],
      "execution_count": 1,
      "outputs": []
    },
    {
      "cell_type": "markdown",
      "metadata": {
        "id": "cnaEkfAtY5n1"
      },
      "source": [
        "### <font color=\"green\">1.2 Challenge: Creating an Array</font>"
      ]
    },
    {
      "cell_type": "code",
      "metadata": {
        "id": "43Q-yy08bG0B",
        "outputId": "ee264769-5630-4c91-d9a8-909232aad2b1",
        "colab": {
          "base_uri": "https://localhost:8080/"
        }
      },
      "source": [
        "# Challenge 1 \n",
        "# Create an array of five zeros\n",
        "#\n",
        "a = np.zeros([2,5])\n",
        "print(a)"
      ],
      "execution_count": 8,
      "outputs": [
        {
          "output_type": "stream",
          "text": [
            "[[0. 0. 0. 0. 0.]\n",
            " [0. 0. 0. 0. 0.]]\n"
          ],
          "name": "stdout"
        }
      ]
    },
    {
      "cell_type": "code",
      "metadata": {
        "id": "Y-ZMS064b8Ck",
        "outputId": "524648c5-d820-442b-9498-98eddfe55ea1",
        "colab": {
          "base_uri": "https://localhost:8080/"
        }
      },
      "source": [
        "# Challenge 2\n",
        "# Create an array of six ones \n",
        "#\n",
        "b = np.ones(6)\n",
        "print(b)"
      ],
      "execution_count": 9,
      "outputs": [
        {
          "output_type": "stream",
          "text": [
            "[1. 1. 1. 1. 1. 1.]\n"
          ],
          "name": "stdout"
        }
      ]
    },
    {
      "cell_type": "code",
      "metadata": {
        "id": "FOaIYiBGb74H",
        "outputId": "d2c667d8-9698-41ba-9bdd-8411d94ff95d",
        "colab": {
          "base_uri": "https://localhost:8080/"
        }
      },
      "source": [
        "# Challenge 3\n",
        "# Create an array of the integers from 10 to 50\n",
        "#\n",
        "\n",
        "x = np.arange(10,51)\n",
        "print(x)"
      ],
      "execution_count": 12,
      "outputs": [
        {
          "output_type": "stream",
          "text": [
            "[10 11 12 13 14 15 16 17 18 19 20 21 22 23 24 25 26 27 28 29 30 31 32 33\n",
            " 34 35 36 37 38 39 40 41 42 43 44 45 46 47 48 49 50]\n"
          ],
          "name": "stdout"
        }
      ]
    },
    {
      "cell_type": "code",
      "metadata": {
        "id": "FmmY6xLSb7t8",
        "outputId": "e74468f2-5763-41d3-90dc-a280cfdabfd2",
        "colab": {
          "base_uri": "https://localhost:8080/"
        }
      },
      "source": [
        "# Challenge 4\n",
        "# Create an array of odd integers from 20 to 60\n",
        "#\n",
        "\n",
        "y = np.arange(21,61,2)\n",
        "print(y)"
      ],
      "execution_count": 15,
      "outputs": [
        {
          "output_type": "stream",
          "text": [
            "[21 23 25 27 29 31 33 35 37 39 41 43 45 47 49 51 53 55 57 59]\n"
          ],
          "name": "stdout"
        }
      ]
    },
    {
      "cell_type": "code",
      "metadata": {
        "id": "ht0VpxEXb7kG",
        "outputId": "0c4db2c4-0060-4bbf-e962-a2eebbcd3ed1",
        "colab": {
          "base_uri": "https://localhost:8080/"
        }
      },
      "source": [
        "# Challenge 5\n",
        "# Create an array of 25 random numbers \n",
        "#\n",
        "\n",
        "z = np.random.rand(25).reshape(5,5)\n",
        "print(z)"
      ],
      "execution_count": 16,
      "outputs": [
        {
          "output_type": "stream",
          "text": [
            "[[0.55274495 0.95287734 0.15408429 0.55984279 0.26655355]\n",
            " [0.670468   0.54607523 0.24867745 0.84626132 0.95843057]\n",
            " [0.85841618 0.41543658 0.32916408 0.06557329 0.27318732]\n",
            " [0.10760463 0.38010513 0.87328579 0.57777551 0.84060043]\n",
            " [0.06881065 0.73595535 0.02692925 0.57952637 0.84544638]]\n"
          ],
          "name": "stdout"
        }
      ]
    },
    {
      "cell_type": "markdown",
      "metadata": {
        "id": "ICXG_crZZAw8"
      },
      "source": [
        "### <font color=\"green\">1.3 Working with Matrices</font>"
      ]
    },
    {
      "cell_type": "code",
      "metadata": {
        "id": "CnM3qTE1b7YF",
        "outputId": "94a3a712-bbd6-4b7a-b188-bcbd0e309319",
        "colab": {
          "base_uri": "https://localhost:8080/"
        }
      },
      "source": [
        "# Challenge 6\n",
        "# Write code to replicate the expected matrix output \n",
        "# of the cell shown below\n",
        "# \n",
        "\n",
        "a = np.arange(1,21).reshape(5,4)\n",
        "print(a)"
      ],
      "execution_count": 17,
      "outputs": [
        {
          "output_type": "stream",
          "text": [
            "[[ 1  2  3  4]\n",
            " [ 5  6  7  8]\n",
            " [ 9 10 11 12]\n",
            " [13 14 15 16]\n",
            " [17 18 19 20]]\n"
          ],
          "name": "stdout"
        }
      ]
    },
    {
      "cell_type": "code",
      "metadata": {
        "id": "K5-uPXdEfgjU",
        "outputId": "3d6b0e1d-8e5b-4913-c391-443af2ed2688",
        "colab": {
          "base_uri": "https://localhost:8080/",
          "height": 102
        }
      },
      "source": [
        "# Challenge 6: Expected Output\n",
        "# [Do not run this cell]\n",
        "# The output of this cell will disappear when run"
      ],
      "execution_count": null,
      "outputs": [
        {
          "output_type": "stream",
          "text": [
            "[[ 1  2  3  4]\n",
            " [ 5  6  7  8]\n",
            " [ 9 10 11 12]\n",
            " [13 14 15 16]\n",
            " [17 18 19 20]]\n"
          ],
          "name": "stdout"
        }
      ]
    },
    {
      "cell_type": "code",
      "metadata": {
        "id": "EH63OkyEb7NU",
        "outputId": "d6a770d5-9fde-439f-e209-fd5d622a7ea1",
        "colab": {
          "base_uri": "https://localhost:8080/"
        }
      },
      "source": [
        "# Challenge 7\n",
        "# Let's write code to replicate the expected matrix output \n",
        "# of the cell shown below\n",
        "# \n",
        "\n",
        "\n",
        "z  = [[14,15,16],[18,19,20]]\n",
        "q  = np.array(z)\n",
        "print(q)"
      ],
      "execution_count": 26,
      "outputs": [
        {
          "output_type": "stream",
          "text": [
            "[[14 15 16]\n",
            " [18 19 20]]\n"
          ],
          "name": "stdout"
        }
      ]
    },
    {
      "cell_type": "code",
      "metadata": {
        "id": "avA-papFb7Fl",
        "outputId": "aa252745-ee8f-48db-a0ea-f4dad2484177",
        "colab": {
          "base_uri": "https://localhost:8080/",
          "height": 51
        }
      },
      "source": [
        "# Challenge 7: Expected Output\n",
        "# [Do not run this cell]\n",
        "# Running this cell will cause the output below to disappear"
      ],
      "execution_count": null,
      "outputs": [
        {
          "output_type": "stream",
          "text": [
            "[[14 15 16]\n",
            " [18 19 20]]\n"
          ],
          "name": "stdout"
        }
      ]
    },
    {
      "cell_type": "code",
      "metadata": {
        "id": "nLV_X3kQb68p",
        "outputId": "545b50ce-6577-468c-f536-d34d10a53e44",
        "colab": {
          "base_uri": "https://localhost:8080/"
        }
      },
      "source": [
        "# Challenge 8\n",
        "# Let's write code to replicate the expected matrix output \n",
        "# of the cell shown below\n",
        "# \n",
        "\n",
        "r = np.arange(0,21,2)\n",
        "print(r[10])\n"
      ],
      "execution_count": 38,
      "outputs": [
        {
          "output_type": "stream",
          "text": [
            "20\n"
          ],
          "name": "stdout"
        }
      ]
    },
    {
      "cell_type": "code",
      "metadata": {
        "id": "DxEU0hOEb6y2",
        "outputId": "e206bcc9-90fe-4ff0-f412-60487537707f",
        "colab": {
          "base_uri": "https://localhost:8080/",
          "height": 34
        }
      },
      "source": [
        "# Challenge 8: Expected Output\n",
        "# [Do not run this cell]\n",
        "# Running this cell will cause the output below to disappear"
      ],
      "execution_count": null,
      "outputs": [
        {
          "output_type": "execute_result",
          "data": {
            "text/plain": [
              "20"
            ]
          },
          "metadata": {
            "tags": []
          },
          "execution_count": 13
        }
      ]
    },
    {
      "cell_type": "code",
      "metadata": {
        "id": "Dau4PAJfb6oO",
        "outputId": "212f054a-1129-4f27-96d3-4e624205c879",
        "colab": {
          "base_uri": "https://localhost:8080/"
        }
      },
      "source": [
        "# Challenge 9\n",
        "# Let's write code to replicate the expected matrix output \n",
        "# of the cell shown below\n",
        "#\n",
        "\n",
        "t = np.arange(13,21).reshape(2,4)\n",
        "print(t)"
      ],
      "execution_count": 39,
      "outputs": [
        {
          "output_type": "stream",
          "text": [
            "[[13 14 15 16]\n",
            " [17 18 19 20]]\n"
          ],
          "name": "stdout"
        }
      ]
    },
    {
      "cell_type": "code",
      "metadata": {
        "id": "Pgj7NWePb6fa",
        "outputId": "c4bc7e8c-bf79-4838-9df5-cf0ee199eec6",
        "colab": {
          "base_uri": "https://localhost:8080/",
          "height": 51
        }
      },
      "source": [
        "# Challenge 9: Expected Output\n",
        "# [Do not run this cell]\n",
        "# Running this cell will cause the output below to disappear"
      ],
      "execution_count": null,
      "outputs": [
        {
          "output_type": "stream",
          "text": [
            "[[13 14 15 16]\n",
            " [17 18 19 20]]\n"
          ],
          "name": "stdout"
        }
      ]
    },
    {
      "cell_type": "code",
      "metadata": {
        "id": "jLp-pwUyb6R_",
        "outputId": "261e1994-83be-4a38-eb6b-33a4f559302d",
        "colab": {
          "base_uri": "https://localhost:8080/"
        }
      },
      "source": [
        "# Challenge 10\n",
        "# Let's find out the mean of first column values \n",
        "# in our matrix in challenge 6 above\n",
        "# \n",
        "\n",
        "np.mean(a[:,0])"
      ],
      "execution_count": 41,
      "outputs": [
        {
          "output_type": "execute_result",
          "data": {
            "text/plain": [
              "9.0"
            ]
          },
          "metadata": {
            "tags": []
          },
          "execution_count": 41
        }
      ]
    },
    {
      "cell_type": "code",
      "metadata": {
        "id": "i5cFO78Jb6Ee",
        "outputId": "60c01c10-16d5-49c6-b273-e015cf3d8cf4",
        "colab": {
          "base_uri": "https://localhost:8080/"
        }
      },
      "source": [
        "# Challenge 11\n",
        "# Let's find out the sum of second column values \n",
        "# in our matrix in challenge 6 above\n",
        "#\n",
        "\n",
        "np.sum(a[:,1])"
      ],
      "execution_count": 42,
      "outputs": [
        {
          "output_type": "execute_result",
          "data": {
            "text/plain": [
              "50"
            ]
          },
          "metadata": {
            "tags": []
          },
          "execution_count": 42
        }
      ]
    },
    {
      "cell_type": "code",
      "metadata": {
        "id": "kjS2h2jSj7_v",
        "outputId": "0163759d-869c-44aa-cd88-7a21f3f599c1",
        "colab": {
          "base_uri": "https://localhost:8080/"
        }
      },
      "source": [
        "# Challenge 12\n",
        "# How do we find out the sum of all columns of the challenge 6 output\n",
        "# The resulting array should contain the sums of each column\n",
        "# \n",
        "\n",
        "np.sum(a[:], axis = 0)"
      ],
      "execution_count": 46,
      "outputs": [
        {
          "output_type": "execute_result",
          "data": {
            "text/plain": [
              "array([45, 50, 55, 60])"
            ]
          },
          "metadata": {
            "tags": []
          },
          "execution_count": 46
        }
      ]
    },
    {
      "cell_type": "code",
      "metadata": {
        "id": "_ZMTla_LWcgn"
      },
      "source": [
        ""
      ],
      "execution_count": null,
      "outputs": []
    }
  ]
}